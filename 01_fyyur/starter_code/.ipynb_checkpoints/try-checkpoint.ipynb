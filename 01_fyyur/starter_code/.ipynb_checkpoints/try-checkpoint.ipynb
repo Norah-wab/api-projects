{
 "cells": [
  {
   "cell_type": "code",
   "execution_count": 1,
   "metadata": {},
   "outputs": [
    {
     "name": "stderr",
     "output_type": "stream",
     "text": [
      "/Users/norah/opt/anaconda3/lib/python3.8/site-packages/flask_sqlalchemy/__init__.py:833: FSADeprecationWarning: SQLALCHEMY_TRACK_MODIFICATIONS adds significant overhead and will be disabled by default in the future.  Set it to True or False to suppress this warning.\n",
      "  warnings.warn(FSADeprecationWarning(\n"
     ]
    }
   ],
   "source": [
    "import app"
   ]
  },
  {
   "cell_type": "code",
   "execution_count": 2,
   "metadata": {},
   "outputs": [],
   "source": [
    "from app import Venue , Artist , db , Show"
   ]
  },
  {
   "cell_type": "code",
   "execution_count": 3,
   "metadata": {},
   "outputs": [],
   "source": [
    "import json\n",
    "import dateutil.parser\n",
    "import babel\n",
    "from flask import Flask, render_template, request, Response, flash, redirect, url_for, abort, jsonify\n",
    "from flask_moment import Moment\n",
    "from flask_sqlalchemy import SQLAlchemy\n",
    "from flask_migrate import Migrate\n",
    "import logging\n",
    "from logging import Formatter, FileHandler\n",
    "from flask_wtf import Form\n",
    "from forms import *\n",
    "import sys"
   ]
  },
  {
   "cell_type": "code",
   "execution_count": 4,
   "metadata": {},
   "outputs": [
    {
     "data": {
      "text/plain": [
       "<Venue 1 The Musical Hop San Francisco CA None>"
      ]
     },
     "execution_count": 4,
     "metadata": {},
     "output_type": "execute_result"
    }
   ],
   "source": [
    "Venue.query.first()"
   ]
  },
  {
   "cell_type": "code",
   "execution_count": null,
   "metadata": {},
   "outputs": [],
   "source": [
    "shows = Show.query.all()\n",
    "data=[]\n",
    "for show in shows:\n",
    "    record = {}\n",
    "    venue = Venue.query.get(show.venue_id)\n",
    "    artist = Artist.query.get(show.artist_id)\n",
    "    record[\"venue_id\"] = venue.id\n",
    "    record[\"venue_name\"] = venue.name\n",
    "    record[\"artist_id\"] = artist.id\n",
    "    record[\"artist_name\"] = artist.name\n",
    "    record[\"artist_image_link\"] = artist.image_link\n",
    "    record[\"start_time\"] = show.start_time.strftime('%Y-%m-%d %H:%M:%S')\n",
    "    data.append(record)\n",
    "data"
   ]
  },
  {
   "cell_type": "code",
   "execution_count": 5,
   "metadata": {},
   "outputs": [
    {
     "ename": "IndentationError",
     "evalue": "unexpected indent (<ipython-input-5-6072058b4ac6>, line 20)",
     "output_type": "error",
     "traceback": [
      "\u001b[0;36m  File \u001b[0;32m\"<ipython-input-5-6072058b4ac6>\"\u001b[0;36m, line \u001b[0;32m20\u001b[0m\n\u001b[0;31m    for r in  upcoming_shows_result:\u001b[0m\n\u001b[0m    ^\u001b[0m\n\u001b[0;31mIndentationError\u001b[0m\u001b[0;31m:\u001b[0m unexpected indent\n"
     ]
    }
   ],
   "source": [
    "venue_id = 1\n",
    "venue = Venue.query.get(venue_id)\n",
    "upcoming_shows_result = db.session.query(Show).join(Artist).filter (Show.id == venue.id).filter(Show.start_time > datetime.now())\n",
    "past_shows_result = db.session.query(Show).join(Artist).filter (Show.id == venue.id).filter(Show.start_time < datetime.now())\n",
    "data = {}\n",
    "data [\"id\"] = venue.id \n",
    "data [\"name\"] = venue.name\n",
    "data[\"genres\"] = venue.Genres\n",
    "data[\"address\"] = venue.address\n",
    "data[\"city\"] = venue.city\n",
    "data[\"state\"] = venue.state\n",
    "data[\"phone\"] = venue.phone\n",
    "data [\"website\"] = venue.website\n",
    "data[\"facebook_link\"] =venue.facebook_link\n",
    "data[\"seeking_talent\"]= venue.seeking_talent\n",
    "data[\"seeking_description\"]= venue.seeking_description\n",
    "data[\"image_link\"]= venue.image_link\n",
    "\n",
    "upcoming_shows = []\n",
    "for r in  upcoming_shows_result:\n",
    "    record = {}\n",
    "    record [\"artist_id\"] = r.id\n",
    "    record [\"artist_name\"] = r.artist.name\n",
    "    record [\"artist_image_link\"] = r.artist.image_link\n",
    "    record [\"start_time\"]= r.start_time.strftime('%Y-%m-%d %H:%M:%S')\n",
    "    upcoming_shows.append(record)\n",
    "data[\"upcoming_shows\"] = upcoming_shows\n",
    "past_shows = []\n",
    "for r in  past_shows_result:\n",
    "    record = {}\n",
    "    record [\"artist_id\"] = r.id\n",
    "    record [\"artist_name\"] = r.artist.name\n",
    "    record [\"artist_image_link\"] = r.artist.image_link\n",
    "    record [\"start_time\"]=r.start_time.strftime('%Y-%m-%d %H:%M:%S')\n",
    "    past_shows.append(record)\n",
    "  \n",
    "data[\"past_shows\"] = past_shows\n",
    "data[\"past_shows_count\"]= len(past_shows)\n",
    "data[\"upcoming_shows_count\"]= len(upcoming_shows)\n",
    "data"
   ]
  },
  {
   "cell_type": "code",
   "execution_count": null,
   "metadata": {},
   "outputs": [],
   "source": [
    "artist_id = 1\n",
    "artist = Artist.query.get(artist_id)\n",
    "past_shows_result = db.session.query(Show).join(Venue).filter (Show.id == artist.id).filter(Show.start_time < datetime.now())\n",
    "past_shows_result[0]['']"
   ]
  },
  {
   "cell_type": "code",
   "execution_count": null,
   "metadata": {},
   "outputs": [],
   "source": [
    "venue_id =1\n",
    "venue = Venue.query.get(venue_id)\n",
    "upcoming_shows_result = db.session.query(Show).join(Artist).filter (Show.id == venue.id).filter(Show.start_time > datetime.now())\n",
    "past_shows_result = db.session.query(Show).join(Artist).filter (Show.id == venue.id).filter(Show.start_time < datetime.now())\n",
    "  \n",
    "data = {}\n",
    "data [\"id\"] = venue.id \n",
    "data [\"name\"] = venue.name\n",
    "data[\"genres\"] = venue.Genres\n",
    "data[\"address\"] = venue.address\n",
    "data[\"city\"] = venue.city\n",
    "data[\"state\"] = venue.state\n",
    "data[\"phone\"] = venue.phone\n",
    "data [\"website\"] = venue.website\n",
    "data[\"facebook_link\"] =venue.facebook_link\n",
    "data[\"seeking_talent\"]= venue.seeking_talent\n",
    "data[\"seeking_description\"]= venue.seeking_description\n",
    "data[\"image_link\"]= venue.image_link\n",
    "upcoming_shows = []\n",
    "for r in  upcoming_shows_result:\n",
    "    record = {}\n",
    "    record [\"artist_id\"] = r.id\n",
    "    record [\"artist_name\"] = r.name\n",
    "    record [\"artist_image_link\"] = r.image_link\n",
    "    record [\"start_time\"]: r.start_time\n",
    "    upcoming_shows.append(record)\n",
    "data[\"upcoming_shows\"] = upcoming_shows\n",
    "past_shows = []\n",
    "for r in  past_shows_result:\n",
    "    record = {}\n",
    "    record [\"artist_id\"] = r.id\n",
    "    record [\"artist_name\"] = r.name\n",
    "    record [\"artist_image_link\"] = r.image_link\n",
    "    record [\"start_time\"]: r.start_time\n",
    "    past_shows.append(record)\n",
    "data[\"past_shows\"] = past_shows\n",
    "data[\"past_shows_count\"]: len(past_shows)\n",
    "data[\"upcoming_shows_count\"]: len(upcoming_shows)"
   ]
  },
  {
   "cell_type": "code",
   "execution_count": null,
   "metadata": {},
   "outputs": [],
   "source": [
    "data"
   ]
  },
  {
   "cell_type": "code",
   "execution_count": null,
   "metadata": {},
   "outputs": [],
   "source": [
    "  data1={\n",
    "    \"id\": 1,\n",
    "    \"name\": \"The Musical Hop\",\n",
    "    \"genres\": [\"Jazz\", \"Reggae\", \"Swing\", \"Classical\", \"Folk\"],\n",
    "    \"address\": \"1015 Folsom Street\",\n",
    "    \"city\": \"San Francisco\",\n",
    "    \"state\": \"CA\",\n",
    "    \"phone\": \"123-123-1234\",\n",
    "    \"website\": \"https://www.themusicalhop.com\",\n",
    "    \"facebook_link\": \"https://www.facebook.com/TheMusicalHop\",\n",
    "    \"seeking_talent\": False,\n",
    "    \"seeking_description\": \"We are on the lookout for a local artist to play every two weeks. Please call us.\",\n",
    "    \"image_link\": \"https://images.unsplash.com/photo-1543900694-133f37abaaa5?ixlib=rb-1.2.1&ixid=eyJhcHBfaWQiOjEyMDd9&auto=format&fit=crop&w=400&q=60\",\n",
    "    \"past_shows\": [{\n",
    "      \"artist_id\": 4,\n",
    "      \"artist_name\": \"Guns N Petals\",\n",
    "      \"artist_image_link\": \"https://images.unsplash.com/photo-1549213783-8284d0336c4f?ixlib=rb-1.2.1&ixid=eyJhcHBfaWQiOjEyMDd9&auto=format&fit=crop&w=300&q=80\",\n",
    "      \"start_time\": \"2020-10-07 09:00:30\"\n",
    "    }],\n",
    "    \"upcoming_shows\": [],\n",
    "    \"past_shows_count\": 1,\n",
    "    \"upcoming_shows_count\": 0}\n",
    "    data2={\n",
    "    \"id\": 2,\n",
    "    \"name\": \"The Dueling Pianos Bar\",\n",
    "    \"genres\": [\"Classical\", \"R&B\", \"Hip-Hop\"],\n",
    "    \"address\": \"335 Delancey Street\",\n",
    "    \"city\": \"New York\",\n",
    "    \"state\": \"NY\",\n",
    "    \"phone\": \"914-003-1132\",\n",
    "    \"website\": \"https://www.theduelingpianos.com\",\n",
    "    \"facebook_link\": \"https://www.facebook.com/theduelingpianos\",\n",
    "    \"seeking_talent\": False,\n",
    "    \"image_link\": \"https://images.unsplash.com/photo-1497032205916-ac775f0649ae?ixlib=rb-1.2.1&ixid=eyJhcHBfaWQiOjEyMDd9&auto=format&fit=crop&w=750&q=80\",\n",
    "    \"past_shows\": [],\n",
    "    \"upcoming_shows\": [],\n",
    "    \"past_shows_count\": 0,\n",
    "    \"upcoming_shows_count\": 0\n",
    "  }\n",
    "    data3={\n",
    "    \"id\": 3,\n",
    "    \"name\": \"Park Square Live Music & Coffee\",\n",
    "    \"genres\": [\"Rock n Roll\", \"Jazz\", \"Classical\", \"Folk\"],\n",
    "    \"address\": \"34 Whiskey Moore Ave\",\n",
    "    \"city\": \"San Francisco\",\n",
    "    \"state\": \"CA\",\n",
    "    \"phone\": \"415-000-1234\",\n",
    "    \"website\": \"https://www.parksquarelivemusicandcoffee.com\",\n",
    "    \"facebook_link\": \"https://www.facebook.com/ParkSquareLiveMusicAndCoffee\",\n",
    "    \"seeking_talent\": True,\n",
    "    \"image_link\": \"https://images.unsplash.com/photo-1485686531765-ba63b07845a7?ixlib=rb-1.2.1&ixid=eyJhcHBfaWQiOjEyMDd9&auto=format&fit=crop&w=747&q=80\",\n",
    "    \"past_shows\": [{\n",
    "      \"artist_id\": 5,\n",
    "      \"artist_name\": \"Matt Quevedo\",\n",
    "      \"artist_image_link\": \"https://images.unsplash.com/photo-1495223153807-b916f75de8c5?ixlib=rb-1.2.1&ixid=eyJhcHBfaWQiOjEyMDd9&auto=format&fit=crop&w=334&q=80\",\n",
    "      \"start_time\": \"2019-06-15T23:00:00.000Z\"\n",
    "    }],\n",
    "    \"upcoming_shows\": [{\n",
    "      \"artist_id\": 6,\n",
    "      \"artist_name\": \"The Wild Sax Band\",\n",
    "      \"artist_image_link\": \"https://images.unsplash.com/photo-1558369981-f9ca78462e61?ixlib=rb-1.2.1&ixid=eyJhcHBfaWQiOjEyMDd9&auto=format&fit=crop&w=794&q=80\",\n",
    "      \"start_time\": \"2035-04-01T20:00:00.000Z\"\n",
    "    }, {\n",
    "      \"artist_id\": 6,\n",
    "      \"artist_name\": \"The Wild Sax Band\",\n",
    "      \"artist_image_link\": \"https://images.unsplash.com/photo-1558369981-f9ca78462e61?ixlib=rb-1.2.1&ixid=eyJhcHBfaWQiOjEyMDd9&auto=format&fit=crop&w=794&q=80\",\n",
    "      \"start_time\": \"2035-04-08T20:00:00.000Z\"\n",
    "    }, {\n",
    "      \"artist_id\": 6,\n",
    "      \"artist_name\": \"The Wild Sax Band\",\n",
    "      \"artist_image_link\": \"https://images.unsplash.com/photo-1558369981-f9ca78462e61?ixlib=rb-1.2.1&ixid=eyJhcHBfaWQiOjEyMDd9&auto=format&fit=crop&w=794&q=80\",\n",
    "      \"start_time\": \"2035-04-15T20:00:00.000Z\"\n",
    "    }],\n",
    "    \"past_shows_count\": 1,\n",
    "    \"upcoming_shows_count\": 1,\n",
    "  }"
   ]
  },
  {
   "cell_type": "code",
   "execution_count": null,
   "metadata": {},
   "outputs": [],
   "source": [
    "Venue.query.all()"
   ]
  },
  {
   "cell_type": "code",
   "execution_count": null,
   "metadata": {},
   "outputs": [],
   "source": [
    "locations = Venue.query.distinct('city','state').all()\n",
    "records =  Venue.query.all()"
   ]
  },
  {
   "cell_type": "code",
   "execution_count": null,
   "metadata": {},
   "outputs": [],
   "source": [
    "locations"
   ]
  },
  {
   "cell_type": "code",
   "execution_count": null,
   "metadata": {
    "scrolled": true
   },
   "outputs": [],
   "source": [
    "data = []\n",
    "venuesInLocation = {}\n",
    "for loc in locations:\n",
    "    venuesInLocation = {}\n",
    "    venues =[]\n",
    "    city = loc.city\n",
    "    state = loc.state\n",
    "    venuesInLocation [\"city\"] = loc.city\n",
    "    venuesInLocation [\"state\"] = loc.state\n",
    "    print (state)\n",
    "    for record in records:\n",
    "        if record.city == city and record.state == state:\n",
    "            venue = {}\n",
    "            venue [\"id\"] = record.id\n",
    "            venue [\"name\"] = record.name\n",
    "            venue [\"num_upcoming_shows\"] = 0\n",
    "            venues.append(venue)\n",
    "            venuesInLocation['venues'] = venues\n",
    "    data.append(venuesInLocation)\n",
    "data"
   ]
  },
  {
   "cell_type": "code",
   "execution_count": null,
   "metadata": {},
   "outputs": [],
   "source": [
    "Venue.query.distinct('city','state').all()"
   ]
  },
  {
   "cell_type": "code",
   "execution_count": null,
   "metadata": {},
   "outputs": [],
   "source": [
    "locations = Venue.query.distinct('city','state')"
   ]
  },
  {
   "cell_type": "code",
   "execution_count": null,
   "metadata": {},
   "outputs": [],
   "source": [
    "result = db.session.query(Venue).filter(Venue.name.ilike(f\"%Music%\")).all()\n",
    "#result = db.session.query(Venue).filter(Venue.name.ilike(f\"%{request.form.get('search_term', '')}%\")).all()\n",
    "response = {}\n",
    "data = []\n",
    "response[\"count\"] = len(result)\n",
    "for r in result:\n",
    "    record={}\n",
    "    record [\"id\"] = r.id\n",
    "    record[\"name\"] = r.name\n",
    "    record[\"num_upcoming_shows\"] = 0\n",
    "    data.append(record)\n",
    "response[\"data\"] = data\n",
    "response"
   ]
  },
  {
   "cell_type": "code",
   "execution_count": null,
   "metadata": {},
   "outputs": [],
   "source": [
    "len(results)"
   ]
  },
  {
   "cell_type": "code",
   "execution_count": null,
   "metadata": {},
   "outputs": [],
   "source": []
  }
 ],
 "metadata": {
  "kernelspec": {
   "display_name": "Python 3",
   "language": "python",
   "name": "python3"
  },
  "language_info": {
   "codemirror_mode": {
    "name": "ipython",
    "version": 3
   },
   "file_extension": ".py",
   "mimetype": "text/x-python",
   "name": "python",
   "nbconvert_exporter": "python",
   "pygments_lexer": "ipython3",
   "version": "3.8.3"
  }
 },
 "nbformat": 4,
 "nbformat_minor": 4
}
